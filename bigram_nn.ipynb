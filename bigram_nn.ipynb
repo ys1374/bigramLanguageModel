{
 "cells": [
  {
   "cell_type": "code",
   "execution_count": 1,
   "metadata": {},
   "outputs": [],
   "source": [
    "words = open(\"names.txt\", 'r').read().splitlines()\n",
    "charsInNames = sorted(list(set(''.join(words))))"
   ]
  },
  {
   "cell_type": "code",
   "execution_count": 2,
   "metadata": {},
   "outputs": [],
   "source": [
    "import torch\n",
    "import torch.nn.functional as F"
   ]
  },
  {
   "cell_type": "code",
   "execution_count": 3,
   "metadata": {},
   "outputs": [],
   "source": [
    "#Tokenization\n",
    "# Initialize stoi with '.' mapped to 0\n",
    "stoi = {'.': 0}\n",
    "\n",
    "# Add mappings for characters in charsInNames, starting from 1\n",
    "stoi.update({ch: i for i, ch in enumerate(charsInNames, 1)})\n",
    "\n",
    "itos = {i:ch for ch,i in stoi.items()}"
   ]
  },
  {
   "cell_type": "code",
   "execution_count": 4,
   "metadata": {},
   "outputs": [],
   "source": [
    "# Create a tensor of zeros with dimensions (27, 27)\n",
    "x ,y = [], []\n",
    "\n",
    "# for w in words[:1]: #test for first name\n",
    "for w in words:\n",
    "  word = ['.'] + list(w) + ['.'] # we want to save the occurance of the char at the end and begining\n",
    "  for ch1, ch2 in zip(word, word[1:]): #the rows are first char and the columns are the second char\n",
    "    ch1tot = stoi[ch1]\n",
    "    ch2tot = stoi[ch2]\n",
    "    x.append(ch1tot)\n",
    "    y.append(ch2tot)\n",
    "    \n",
    "x = torch.tensor(x)\n",
    "y = torch.tensor(y)\n"
   ]
  },
  {
   "cell_type": "code",
   "execution_count": 11,
   "metadata": {},
   "outputs": [
    {
     "name": "stdout",
     "output_type": "stream",
     "text": [
      "number of examples:  228146\n"
     ]
    }
   ],
   "source": [
    "num = x.nelement()\n",
    "print('number of examples: ', num)\n",
    "\n",
    "# initialize the 'network'\n",
    "g = torch.Generator().manual_seed(2147483647)\n",
    "W = torch.randn((27, 27), generator=g, requires_grad=True)"
   ]
  },
  {
   "cell_type": "code",
   "execution_count": null,
   "metadata": {},
   "outputs": [],
   "source": [
    "# lop for loss\n",
    "\n",
    "for k in range(500):\n",
    "  \n",
    "  # forward pass\n",
    "  x_one_hot = F.one_hot(x, num_classes=27).float()\n",
    "  logits = x_one_hot @ W\n",
    "  counts = logits.exp()\n",
    "  probs = counts / counts.sum(1, keepdims=True)\n",
    "  loss = -probs[torch.arange(num), y].log().mean() + 0.01*(W**2).mean()\n",
    "  \n",
    "  \n",
    "  # backward propegation\n",
    "  W.grad = None\n",
    "  loss.backward()\n",
    "  W.data += -50 * W.grad\n",
    "\n",
    "\n",
    "print(loss.item())"
   ]
  },
  {
   "cell_type": "code",
   "execution_count": null,
   "metadata": {},
   "outputs": [],
   "source": [
    "\n",
    "g = torch.Generator().manual_seed(2147483647)\n",
    "for i in range(5):\n",
    "  \n",
    "  out = []\n",
    "  ix = 0\n",
    "  while True:\n",
    "\n",
    "    xenc = F.one_hot(torch.tensor([ix]), num_classes=27).float()\n",
    "    logits = xenc @ W \n",
    "    counts = logits.exp() \n",
    "    p = counts / counts.sum(1, keepdims=True) \n",
    "\n",
    "    \n",
    "    ix = torch.multinomial(p, num_samples=1, replacement=True, generator=g).item()\n",
    "    out.append(itos[ix])\n",
    "    if ix == 0:\n",
    "      break\n",
    "  print(''.join(out))"
   ]
  }
 ],
 "metadata": {
  "kernelspec": {
   "display_name": "Python 3",
   "language": "python",
   "name": "python3"
  },
  "language_info": {
   "codemirror_mode": {
    "name": "ipython",
    "version": 3
   },
   "file_extension": ".py",
   "mimetype": "text/x-python",
   "name": "python",
   "nbconvert_exporter": "python",
   "pygments_lexer": "ipython3",
   "version": "3.11.1"
  }
 },
 "nbformat": 4,
 "nbformat_minor": 2
}
